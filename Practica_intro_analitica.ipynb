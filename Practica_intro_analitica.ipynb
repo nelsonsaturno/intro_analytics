{
 "cells": [
  {
   "cell_type": "markdown",
   "metadata": {},
   "source": [
    "# Práctica Introducción a la Analítica\n",
    "### Nelson Saturno\n",
    "\n",
    "# Dataset: Phishing Websites\n",
    "\n",
    "Utilizando este conjunto de datos, queremos evaluar cierta información sobre sitios en la web\n",
    "para clasificarlos en: \"Phishy\", \"Suspicious\" y \"Legitimate\"\n",
    "\n",
    "En este conjunto de datos tenemos las siguientes propiedades y sus valores posibles:\n",
    "\n",
    "    * index\n",
    "    * having_IPhaving_IP_Address { -1,1 }\n",
    "    * URLURL_Length { 1,0,-1 }\n",
    "    * Shortining_Service { 1,-1 }\n",
    "    * having_At_Symbol { 1,-1 }\n",
    "    * double_slash_redirecting { -1,1 }\n",
    "    * Prefix_Suffix { -1,1 }\n",
    "    * having_Sub_Domain { -1,0,1 }\n",
    "    * SSLfinal_State { -1,1,0 }\n",
    "    * Domain_registeration_length { -1,1 }\n",
    "    * Favicon { 1,-1 }\n",
    "    * port { 1,-1 }\n",
    "    * HTTPS_token { -1,1 }\n",
    "    * Request_URL { 1,-1 }\n",
    "    * URL_of_Anchor { -1,0,1 }\n",
    "    * Links_in_tags { -1,0,1 }\n",
    "    * SFH { -1,1,0 }\n",
    "    * Submitting_to_email { -1,1 }\n",
    "    * Abnormal_URL { -1,1 }\n",
    "    * Redirect { 0,1 }\n",
    "    * on_mouseover { 1,-1 }\n",
    "    * RightClick { 1,-1 }\n",
    "    * popUpWidnow { 1,-1 }\n",
    "    * Iframe { 1,-1 }\n",
    "    * age_of_domain { -1,1 }\n",
    "    * DNSRecord { -1,1 }\n",
    "    * web_traffic { -1,0,1 }\n",
    "    * Page_Rank { -1,1 }\n",
    "    * Google_Index { 1,-1 }\n",
    "    * Links_pointing_to_page { 1,0,-1 }\n",
    "    * Statistical_report { -1,1 }\n",
    "    * Result { -1,1 }\n",
    "    \n",
    "*El conjunto de datos ha sido dascargado de [Kaggle](https://www.kaggle.com/akashkr/phishing-website-dataset) con apoyo de la descripción de los datos*\n",
    "*encontrada en [UCI Machine Learning Repository](https://archive.ics.uci.edu/ml/datasets/Phishing+Websites)*\n",
    "\n",
    "Pese a que los datos ya se encuentran transformados a tipo numérico, nos basamos en el paper *[Predicting Phishing Websites based on Self-Structuring\n",
    "Neural Network](http://eprints.hud.ac.uk/id/eprint/19220/3/RamiPredicting_Phishing_Websites_based_on_Self-Structuring_Neural_Network.pdf)* para obtener el significado de {-1, 0, 1}:\n",
    "    * -1: Phishy\n",
    "    *  0: Suspicious\n",
    "    *  1: Legitimate\n",
    "    \n",
    "Dado que los resultados de la clasificación de los sitios web solo vienen en -1 y 1, tenemos un problema de clasificación binaria.\n",
    "<hr>"
   ]
  },
  {
   "cell_type": "markdown",
   "metadata": {},
   "source": [
    "### Iniciamos con la importación de las librerías que se van a utilizar"
   ]
  },
  {
   "cell_type": "code",
   "execution_count": 100,
   "metadata": {},
   "outputs": [],
   "source": [
    "import itertools\n",
    "import pandas as pd\n",
    "import numpy as np\n",
    "import matplotlib.pyplot as plt\n",
    "import seaborn as sns\n",
    "from sklearn import preprocessing\n",
    "from sklearn.linear_model import LogisticRegression\n",
    "from sklearn.model_selection import train_test_split\n",
    "from sklearn.metrics import classification_report, confusion_matrix, precision_score, recall_score, f1_score"
   ]
  },
  {
   "cell_type": "markdown",
   "metadata": {},
   "source": [
    "<hr>"
   ]
  },
  {
   "cell_type": "markdown",
   "metadata": {},
   "source": [
    "### Lectura de Datos\n",
    "\n",
    "Nota: cambiamos el valor -1 por 2 para utilizar sólo datos positivos."
   ]
  },
  {
   "cell_type": "markdown",
   "metadata": {},
   "source": [
    "    * 0: Suspicious\n",
    "    * 1: Legitimate\n",
    "    * 2: Phishy"
   ]
  },
  {
   "cell_type": "code",
   "execution_count": 102,
   "metadata": {},
   "outputs": [
    {
     "data": {
      "text/html": [
       "<div>\n",
       "<style scoped>\n",
       "    .dataframe tbody tr th:only-of-type {\n",
       "        vertical-align: middle;\n",
       "    }\n",
       "\n",
       "    .dataframe tbody tr th {\n",
       "        vertical-align: top;\n",
       "    }\n",
       "\n",
       "    .dataframe thead th {\n",
       "        text-align: right;\n",
       "    }\n",
       "</style>\n",
       "<table border=\"1\" class=\"dataframe\">\n",
       "  <thead>\n",
       "    <tr style=\"text-align: right;\">\n",
       "      <th></th>\n",
       "      <th>having_IPhaving_IP_Address</th>\n",
       "      <th>URLURL_Length</th>\n",
       "      <th>Shortining_Service</th>\n",
       "      <th>having_At_Symbol</th>\n",
       "      <th>double_slash_redirecting</th>\n",
       "      <th>Prefix_Suffix</th>\n",
       "      <th>having_Sub_Domain</th>\n",
       "      <th>SSLfinal_State</th>\n",
       "      <th>Domain_registeration_length</th>\n",
       "      <th>Favicon</th>\n",
       "      <th>...</th>\n",
       "      <th>popUpWidnow</th>\n",
       "      <th>Iframe</th>\n",
       "      <th>age_of_domain</th>\n",
       "      <th>DNSRecord</th>\n",
       "      <th>web_traffic</th>\n",
       "      <th>Page_Rank</th>\n",
       "      <th>Google_Index</th>\n",
       "      <th>Links_pointing_to_page</th>\n",
       "      <th>Statistical_report</th>\n",
       "      <th>Result</th>\n",
       "    </tr>\n",
       "    <tr>\n",
       "      <th>index</th>\n",
       "      <th></th>\n",
       "      <th></th>\n",
       "      <th></th>\n",
       "      <th></th>\n",
       "      <th></th>\n",
       "      <th></th>\n",
       "      <th></th>\n",
       "      <th></th>\n",
       "      <th></th>\n",
       "      <th></th>\n",
       "      <th></th>\n",
       "      <th></th>\n",
       "      <th></th>\n",
       "      <th></th>\n",
       "      <th></th>\n",
       "      <th></th>\n",
       "      <th></th>\n",
       "      <th></th>\n",
       "      <th></th>\n",
       "      <th></th>\n",
       "      <th></th>\n",
       "    </tr>\n",
       "  </thead>\n",
       "  <tbody>\n",
       "    <tr>\n",
       "      <th>1</th>\n",
       "      <td>2</td>\n",
       "      <td>1</td>\n",
       "      <td>1</td>\n",
       "      <td>1</td>\n",
       "      <td>2</td>\n",
       "      <td>2</td>\n",
       "      <td>2</td>\n",
       "      <td>2</td>\n",
       "      <td>2</td>\n",
       "      <td>1</td>\n",
       "      <td>...</td>\n",
       "      <td>1</td>\n",
       "      <td>1</td>\n",
       "      <td>2</td>\n",
       "      <td>2</td>\n",
       "      <td>2</td>\n",
       "      <td>2</td>\n",
       "      <td>1</td>\n",
       "      <td>1</td>\n",
       "      <td>2</td>\n",
       "      <td>2</td>\n",
       "    </tr>\n",
       "    <tr>\n",
       "      <th>2</th>\n",
       "      <td>1</td>\n",
       "      <td>1</td>\n",
       "      <td>1</td>\n",
       "      <td>1</td>\n",
       "      <td>1</td>\n",
       "      <td>2</td>\n",
       "      <td>0</td>\n",
       "      <td>1</td>\n",
       "      <td>2</td>\n",
       "      <td>1</td>\n",
       "      <td>...</td>\n",
       "      <td>1</td>\n",
       "      <td>1</td>\n",
       "      <td>2</td>\n",
       "      <td>2</td>\n",
       "      <td>0</td>\n",
       "      <td>2</td>\n",
       "      <td>1</td>\n",
       "      <td>1</td>\n",
       "      <td>1</td>\n",
       "      <td>2</td>\n",
       "    </tr>\n",
       "    <tr>\n",
       "      <th>3</th>\n",
       "      <td>1</td>\n",
       "      <td>0</td>\n",
       "      <td>1</td>\n",
       "      <td>1</td>\n",
       "      <td>1</td>\n",
       "      <td>2</td>\n",
       "      <td>2</td>\n",
       "      <td>2</td>\n",
       "      <td>2</td>\n",
       "      <td>1</td>\n",
       "      <td>...</td>\n",
       "      <td>1</td>\n",
       "      <td>1</td>\n",
       "      <td>1</td>\n",
       "      <td>2</td>\n",
       "      <td>1</td>\n",
       "      <td>2</td>\n",
       "      <td>1</td>\n",
       "      <td>0</td>\n",
       "      <td>2</td>\n",
       "      <td>2</td>\n",
       "    </tr>\n",
       "    <tr>\n",
       "      <th>4</th>\n",
       "      <td>1</td>\n",
       "      <td>0</td>\n",
       "      <td>1</td>\n",
       "      <td>1</td>\n",
       "      <td>1</td>\n",
       "      <td>2</td>\n",
       "      <td>2</td>\n",
       "      <td>2</td>\n",
       "      <td>1</td>\n",
       "      <td>1</td>\n",
       "      <td>...</td>\n",
       "      <td>1</td>\n",
       "      <td>1</td>\n",
       "      <td>2</td>\n",
       "      <td>2</td>\n",
       "      <td>1</td>\n",
       "      <td>2</td>\n",
       "      <td>1</td>\n",
       "      <td>2</td>\n",
       "      <td>1</td>\n",
       "      <td>2</td>\n",
       "    </tr>\n",
       "    <tr>\n",
       "      <th>5</th>\n",
       "      <td>1</td>\n",
       "      <td>0</td>\n",
       "      <td>2</td>\n",
       "      <td>1</td>\n",
       "      <td>1</td>\n",
       "      <td>2</td>\n",
       "      <td>1</td>\n",
       "      <td>1</td>\n",
       "      <td>2</td>\n",
       "      <td>1</td>\n",
       "      <td>...</td>\n",
       "      <td>2</td>\n",
       "      <td>1</td>\n",
       "      <td>2</td>\n",
       "      <td>2</td>\n",
       "      <td>0</td>\n",
       "      <td>2</td>\n",
       "      <td>1</td>\n",
       "      <td>1</td>\n",
       "      <td>1</td>\n",
       "      <td>1</td>\n",
       "    </tr>\n",
       "  </tbody>\n",
       "</table>\n",
       "<p>5 rows × 31 columns</p>\n",
       "</div>"
      ],
      "text/plain": [
       "       having_IPhaving_IP_Address  URLURL_Length  Shortining_Service  \\\n",
       "index                                                                  \n",
       "1                               2              1                   1   \n",
       "2                               1              1                   1   \n",
       "3                               1              0                   1   \n",
       "4                               1              0                   1   \n",
       "5                               1              0                   2   \n",
       "\n",
       "       having_At_Symbol  double_slash_redirecting  Prefix_Suffix  \\\n",
       "index                                                              \n",
       "1                     1                         2              2   \n",
       "2                     1                         1              2   \n",
       "3                     1                         1              2   \n",
       "4                     1                         1              2   \n",
       "5                     1                         1              2   \n",
       "\n",
       "       having_Sub_Domain  SSLfinal_State  Domain_registeration_length  \\\n",
       "index                                                                   \n",
       "1                      2               2                            2   \n",
       "2                      0               1                            2   \n",
       "3                      2               2                            2   \n",
       "4                      2               2                            1   \n",
       "5                      1               1                            2   \n",
       "\n",
       "       Favicon   ...    popUpWidnow  Iframe  age_of_domain  DNSRecord  \\\n",
       "index            ...                                                    \n",
       "1            1   ...              1       1              2          2   \n",
       "2            1   ...              1       1              2          2   \n",
       "3            1   ...              1       1              1          2   \n",
       "4            1   ...              1       1              2          2   \n",
       "5            1   ...              2       1              2          2   \n",
       "\n",
       "       web_traffic  Page_Rank  Google_Index  Links_pointing_to_page  \\\n",
       "index                                                                 \n",
       "1                2          2             1                       1   \n",
       "2                0          2             1                       1   \n",
       "3                1          2             1                       0   \n",
       "4                1          2             1                       2   \n",
       "5                0          2             1                       1   \n",
       "\n",
       "       Statistical_report  Result  \n",
       "index                              \n",
       "1                       2       2  \n",
       "2                       1       2  \n",
       "3                       2       2  \n",
       "4                       1       2  \n",
       "5                       1       1  \n",
       "\n",
       "[5 rows x 31 columns]"
      ]
     },
     "execution_count": 102,
     "metadata": {},
     "output_type": "execute_result"
    }
   ],
   "source": [
    "def transform_row(row):\n",
    "    new_row = []\n",
    "    for value in row:\n",
    "        if value == -1:\n",
    "            new_row.append(2)\n",
    "        else:\n",
    "            new_row.append(value)\n",
    "    return new_row\n",
    "\n",
    "file_path = 'dataset.csv'\n",
    "phishing_df = pd.read_csv(file_path).set_index('index').apply(transform_row)\n",
    "phishing_df.head(5)"
   ]
  },
  {
   "cell_type": "markdown",
   "metadata": {},
   "source": [
    "<hr>"
   ]
  },
  {
   "cell_type": "markdown",
   "metadata": {},
   "source": [
    "### Clasificación Binaria"
   ]
  },
  {
   "cell_type": "code",
   "execution_count": 103,
   "metadata": {},
   "outputs": [],
   "source": [
    "# Obtenemos los datos de la columna de resultados\n",
    "y = phishing_df['Result']\n",
    "\n",
    "# Creamos la estructura de datos para utilizar en nuestro modelo\n",
    "X = np.asarray(\n",
    "    [\n",
    "        np.asarray(\n",
    "            [col for col in pw[:-1]]\n",
    "        ) for _, pw in phishing_df.iterrows()\n",
    "    ]\n",
    ")"
   ]
  },
  {
   "cell_type": "markdown",
   "metadata": {},
   "source": [
    "<hr>"
   ]
  },
  {
   "cell_type": "markdown",
   "metadata": {},
   "source": [
    "### Separación de datos de Entrenamiento y Test\n",
    "\n",
    "En este caso entrenaremos nuestro modelo con el 80% de los datos y realizaremos las pruebas con el 20% restante."
   ]
  },
  {
   "cell_type": "code",
   "execution_count": 104,
   "metadata": {},
   "outputs": [],
   "source": [
    "X_train, X_test, y_train, y_test = train_test_split(X, y, test_size=0.2)"
   ]
  },
  {
   "cell_type": "markdown",
   "metadata": {},
   "source": [
    "<hr>"
   ]
  },
  {
   "cell_type": "markdown",
   "metadata": {},
   "source": [
    "### Creación del modelo y ajuste"
   ]
  },
  {
   "cell_type": "code",
   "execution_count": 105,
   "metadata": {},
   "outputs": [
    {
     "data": {
      "text/plain": [
       "LogisticRegression(C=1.0, class_weight=None, dual=False, fit_intercept=True,\n",
       "          intercept_scaling=1, max_iter=1000, multi_class='ovr',\n",
       "          n_jobs=None, penalty='l2', random_state=None, solver='liblinear',\n",
       "          tol=0.0001, verbose=0, warm_start=False)"
      ]
     },
     "execution_count": 105,
     "metadata": {},
     "output_type": "execute_result"
    }
   ],
   "source": [
    "# Utilizamos el algoritmo 'liblinear', considerando que nuestro problema es de clasificación binaria\n",
    "logreg = LogisticRegression(solver='liblinear', multi_class='ovr', max_iter=1000)\n",
    "\n",
    "# Ajustamos el modelo con los datos de entrenamiento\n",
    "logreg.fit(X_train, y_train)"
   ]
  },
  {
   "cell_type": "markdown",
   "metadata": {},
   "source": [
    "<hr>"
   ]
  },
  {
   "cell_type": "markdown",
   "metadata": {},
   "source": [
    "### Resultados y predicción"
   ]
  },
  {
   "cell_type": "markdown",
   "metadata": {},
   "source": [
    "Ahora obtendermos las constantes *Bn* para nuestra ecuación\n",
    "\n",
    "*Por la cantidad de variables no se mostrán todas.*"
   ]
  },
  {
   "cell_type": "code",
   "execution_count": 106,
   "metadata": {},
   "outputs": [
    {
     "name": "stdout",
     "output_type": "stream",
     "text": [
      "Z = -10.88 + 1.11 · having_IP_Address + -0.76 · URL_Length + ... + -0.54 · Links_pointing_to_page + 0.31 · Statistical_report \n"
     ]
    }
   ],
   "source": [
    "print(\"Z = {b0} + {b1} · having_IP_Address + {b2} · URL_Length + ... + {b29} · Links_pointing_to_page + {b30} · Statistical_report \"\n",
    "      .format(b0=round(logreg.intercept_[0], 2), b1=round(logreg.coef_[0,0], 2), b2=round(logreg.coef_[0,1], 2),\n",
    "              b29=round(logreg.coef_[0,28], 2), b30=round(logreg.coef_[0,29], 2)))"
   ]
  },
  {
   "cell_type": "markdown",
   "metadata": {},
   "source": [
    "### Evaluación del Modelo"
   ]
  },
  {
   "cell_type": "markdown",
   "metadata": {},
   "source": [
    "1. Accuracy\n",
    "    * Entrenamiento\n",
    "    * Test"
   ]
  },
  {
   "cell_type": "code",
   "execution_count": 107,
   "metadata": {},
   "outputs": [
    {
     "name": "stdout",
     "output_type": "stream",
     "text": [
      "accuracy_train = 0.8526684758028041\n",
      "accuracy_test = 0.8340117593848937\n"
     ]
    }
   ],
   "source": [
    "accuracy_train = logreg.score(X_train, y_train)\n",
    "accuracy_test = logreg.score(X_test, y_test)\n",
    "print(\"accuracy_train = {}\".format(accuracy_train))\n",
    "print(\"accuracy_test = {}\".format(accuracy_test))"
   ]
  },
  {
   "cell_type": "markdown",
   "metadata": {},
   "source": [
    "<hr>"
   ]
  },
  {
   "cell_type": "markdown",
   "metadata": {},
   "source": [
    "2. Precisión, Recall, F1:\n",
    "\n",
    "    * Entrenamiento\n",
    "    * Test"
   ]
  },
  {
   "cell_type": "markdown",
   "metadata": {},
   "source": [
    "#### Entrenamiento"
   ]
  },
  {
   "cell_type": "code",
   "execution_count": 108,
   "metadata": {},
   "outputs": [
    {
     "name": "stdout",
     "output_type": "stream",
     "text": [
      "              precision    recall  f1-score   support\n",
      "\n",
      "  Legitimate       0.86      0.88      0.87      4896\n",
      "      Phishy       0.85      0.82      0.83      3948\n",
      "\n",
      "   micro avg       0.85      0.85      0.85      8844\n",
      "   macro avg       0.85      0.85      0.85      8844\n",
      "weighted avg       0.85      0.85      0.85      8844\n",
      "\n"
     ]
    }
   ],
   "source": [
    "# Precision, Recall, F1\n",
    "classification_train = classification_report(\n",
    "    y_true=y_train, y_pred=logreg.predict(X_train), target_names=['Legitimate', 'Phishy']\n",
    ")\n",
    "print(classification_train)"
   ]
  },
  {
   "cell_type": "markdown",
   "metadata": {},
   "source": [
    "#### Test"
   ]
  },
  {
   "cell_type": "code",
   "execution_count": 109,
   "metadata": {},
   "outputs": [
    {
     "name": "stdout",
     "output_type": "stream",
     "text": [
      "              precision    recall  f1-score   support\n",
      "\n",
      "  Legitimate       0.84      0.87      0.86      1261\n",
      "      Phishy       0.82      0.79      0.80       950\n",
      "\n",
      "   micro avg       0.83      0.83      0.83      2211\n",
      "   macro avg       0.83      0.83      0.83      2211\n",
      "weighted avg       0.83      0.83      0.83      2211\n",
      "\n"
     ]
    }
   ],
   "source": [
    "# Precision, Recall, F1\n",
    "classification_test = classification_report(\n",
    "    y_true=y_test, y_pred=logreg.predict(X_test), target_names=['Legitimate', 'Phishy']\n",
    ")\n",
    "print(classification_test)"
   ]
  },
  {
   "cell_type": "markdown",
   "metadata": {},
   "source": [
    "<hr>"
   ]
  },
  {
   "cell_type": "markdown",
   "metadata": {},
   "source": [
    "### Matriz de Confusión"
   ]
  },
  {
   "cell_type": "code",
   "execution_count": 110,
   "metadata": {},
   "outputs": [],
   "source": [
    "# Reutilizando función utilizada en clases\n",
    "def plot_confusion_matrix(cm, classes, title, cmap=plt.cm.Greens):\n",
    "    \"\"\"\n",
    "    This function prints and plots the confusion matrix.\n",
    "    \"\"\"\n",
    "    plt.imshow(cm, interpolation='nearest', cmap=cmap)\n",
    "    plt.title(title)\n",
    "    plt.colorbar()\n",
    "    tick_marks = np.arange(len(classes))\n",
    "    plt.xticks(tick_marks, classes, rotation=45)\n",
    "    plt.yticks(tick_marks, classes)\n",
    "\n",
    "    thresh = cm.max() / 2.\n",
    "    for i, j in itertools.product(range(cm.shape[0]), range(cm.shape[1])):\n",
    "        plt.text(j, i, format(cm[i, j], 'd'), horizontalalignment=\"center\",\n",
    "                 color=\"white\" if cm[i, j] > thresh else \"black\")\n",
    "\n",
    "    plt.tight_layout()\n",
    "    plt.ylabel('True label')\n",
    "    plt.xlabel('Predicted label')"
   ]
  },
  {
   "cell_type": "markdown",
   "metadata": {},
   "source": [
    "#### Entrenamiento"
   ]
  },
  {
   "cell_type": "code",
   "execution_count": 111,
   "metadata": {},
   "outputs": [
    {
     "data": {
      "image/png": "[encoded data removed]",
      "text/plain": [
       "<Figure size 432x288 with 2 Axes>"
      ]
     },
     "metadata": {
      "needs_background": "light"
     },
     "output_type": "display_data"
    }
   ],
   "source": [
    "confusion_train = confusion_matrix(y_true=y_train,y_pred=logreg.predict(X_train))\n",
    "plt.figure()\n",
    "plot_confusion_matrix(confusion_train, classes=['Legitimate', 'Phishy'], title='Matriz de Confusión Datos Entrenamiento')\n",
    "plt.show()"
   ]
  },
  {
   "cell_type": "markdown",
   "metadata": {},
   "source": [
    "#### Test"
   ]
  },
  {
   "cell_type": "code",
   "execution_count": 112,
   "metadata": {},
   "outputs": [
    {
     "data": {
      "image/png": "[encoded data removed]",
      "text/plain": [
       "<Figure size 432x288 with 2 Axes>"
      ]
     },
     "metadata": {
      "needs_background": "light"
     },
     "output_type": "display_data"
    }
   ],
   "source": [
    "confusion_test = confusion_matrix(y_true=y_test,y_pred=logreg.predict(X_test))\n",
    "plt.figure()\n",
    "plot_confusion_matrix(confusion_test, classes=['Legitimate', 'Phishy'], title='Matriz de Confusión Datos Test')\n",
    "plt.show()"
   ]
  }
 ],
 "metadata": {
  "kernelspec": {
   "display_name": "Python 3",
   "language": "python",
   "name": "python3"
  },
  "language_info": {
   "codemirror_mode": {
    "name": "ipython",
    "version": 3
   },
   "file_extension": ".py",
   "mimetype": "text/x-python",
   "name": "python",
   "nbconvert_exporter": "python",
   "pygments_lexer": "ipython3",
   "version": "3.6.7"
  }
 },
 "nbformat": 4,
 "nbformat_minor": 2
}
